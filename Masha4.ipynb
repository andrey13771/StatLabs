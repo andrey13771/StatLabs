{
 "cells": [
  {
   "cell_type": "code",
   "execution_count": 28,
   "metadata": {},
   "outputs": [],
   "source": [
    "%matplotlib inline"
   ]
  },
  {
   "cell_type": "code",
   "execution_count": 1,
   "metadata": {},
   "outputs": [],
   "source": [
    "import pandas as pd\n",
    "import matplotlib.pyplot as plt\n",
    "import seaborn as sns\n",
    "from scipy import stats\n",
    "import statsmodels.api as sm\n",
    "from statsmodels.formula.api import ols\n",
    "from statsmodels.graphics.gofplots import qqplot"
   ]
  },
  {
   "cell_type": "code",
   "execution_count": 2,
   "metadata": {},
   "outputs": [
    {
     "name": "stdout",
     "output_type": "stream",
     "text": [
      "<class 'pandas.core.frame.DataFrame'>\n",
      "RangeIndex: 10118 entries, 0 to 10117\n",
      "Data columns (total 13 columns):\n",
      "TNP           10118 non-null int64\n",
      "Region        10118 non-null object\n",
      "Age           10064 non-null float64\n",
      "Gender        10118 non-null int64\n",
      "SS            10118 non-null int64\n",
      "Rosvit        9557 non-null object\n",
      "Postgrad      9169 non-null float64\n",
      "Experience    7180 non-null float64\n",
      "SocSt         9352 non-null float64\n",
      "Branch        3715 non-null float64\n",
      "Salary        4009 non-null float64\n",
      "Weight        9351 non-null float64\n",
      "Height        9350 non-null float64\n",
      "dtypes: float64(8), int64(3), object(2)\n",
      "memory usage: 1.0+ MB\n"
     ]
    }
   ],
   "source": [
    "df = pd.read_excel('~/Downloads/member.xls')\n",
    "df = df.loc[:, 'TNP': 'Height']\n",
    "df.info()"
   ]
  },
  {
   "cell_type": "code",
   "execution_count": 3,
   "metadata": {
    "scrolled": true
   },
   "outputs": [
    {
     "data": {
      "text/html": [
       "<table class=\"simpletable\">\n",
       "<caption>OLS Regression Results</caption>\n",
       "<tr>\n",
       "  <th>Dep. Variable:</th>           <td>Age</td>       <th>  R-squared:         </th> <td>   0.008</td> \n",
       "</tr>\n",
       "<tr>\n",
       "  <th>Model:</th>                   <td>OLS</td>       <th>  Adj. R-squared:    </th> <td>   0.007</td> \n",
       "</tr>\n",
       "<tr>\n",
       "  <th>Method:</th>             <td>Least Squares</td>  <th>  F-statistic:       </th> <td>   11.27</td> \n",
       "</tr>\n",
       "<tr>\n",
       "  <th>Date:</th>             <td>Sun, 01 Dec 2019</td> <th>  Prob (F-statistic):</th> <td>2.63e-14</td> \n",
       "</tr>\n",
       "<tr>\n",
       "  <th>Time:</th>                 <td>19:02:05</td>     <th>  Log-Likelihood:    </th> <td> -45334.</td> \n",
       "</tr>\n",
       "<tr>\n",
       "  <th>No. Observations:</th>      <td> 10064</td>      <th>  AIC:               </th> <td>9.068e+04</td>\n",
       "</tr>\n",
       "<tr>\n",
       "  <th>Df Residuals:</th>          <td> 10056</td>      <th>  BIC:               </th> <td>9.074e+04</td>\n",
       "</tr>\n",
       "<tr>\n",
       "  <th>Df Model:</th>              <td>     7</td>      <th>                     </th>     <td> </td>    \n",
       "</tr>\n",
       "<tr>\n",
       "  <th>Covariance Type:</th>      <td>nonrobust</td>    <th>                     </th>     <td> </td>    \n",
       "</tr>\n",
       "</table>\n",
       "<table class=\"simpletable\">\n",
       "<tr>\n",
       "           <td></td>             <th>coef</th>     <th>std err</th>      <th>t</th>      <th>P>|t|</th>  <th>[0.025</th>    <th>0.975]</th>  \n",
       "</tr>\n",
       "<tr>\n",
       "  <th>Intercept</th>          <td>   41.2905</td> <td>    0.745</td> <td>   55.444</td> <td> 0.000</td> <td>   39.831</td> <td>   42.750</td>\n",
       "</tr>\n",
       "<tr>\n",
       "  <th>C(Region)[T.Chern]</th> <td>    4.0142</td> <td>    1.104</td> <td>    3.637</td> <td> 0.000</td> <td>    1.851</td> <td>    6.178</td>\n",
       "</tr>\n",
       "<tr>\n",
       "  <th>C(Region)[T.Dnipr]</th> <td>   -1.5802</td> <td>    0.919</td> <td>   -1.720</td> <td> 0.085</td> <td>   -3.381</td> <td>    0.220</td>\n",
       "</tr>\n",
       "<tr>\n",
       "  <th>C(Region)[T.Don]</th>   <td>   -0.7888</td> <td>    0.888</td> <td>   -0.888</td> <td> 0.374</td> <td>   -2.529</td> <td>    0.952</td>\n",
       "</tr>\n",
       "<tr>\n",
       "  <th>C(Region)[T.Khark]</th> <td>   -0.1300</td> <td>    0.993</td> <td>   -0.131</td> <td> 0.896</td> <td>   -2.077</td> <td>    1.817</td>\n",
       "</tr>\n",
       "<tr>\n",
       "  <th>C(Region)[T.Lviv]</th>  <td>   -4.2453</td> <td>    0.925</td> <td>   -4.590</td> <td> 0.000</td> <td>   -6.058</td> <td>   -2.432</td>\n",
       "</tr>\n",
       "<tr>\n",
       "  <th>C(Region)[T.Odess]</th> <td>   -1.5151</td> <td>    1.002</td> <td>   -1.511</td> <td> 0.131</td> <td>   -3.480</td> <td>    0.450</td>\n",
       "</tr>\n",
       "<tr>\n",
       "  <th>C(Region)[T.Vinn]</th>  <td>   -1.6792</td> <td>    1.015</td> <td>   -1.654</td> <td> 0.098</td> <td>   -3.669</td> <td>    0.311</td>\n",
       "</tr>\n",
       "</table>\n",
       "<table class=\"simpletable\">\n",
       "<tr>\n",
       "  <th>Omnibus:</th>       <td>2524.500</td> <th>  Durbin-Watson:     </th> <td>   1.437</td>\n",
       "</tr>\n",
       "<tr>\n",
       "  <th>Prob(Omnibus):</th>  <td> 0.000</td>  <th>  Jarque-Bera (JB):  </th> <td> 448.143</td>\n",
       "</tr>\n",
       "<tr>\n",
       "  <th>Skew:</th>           <td> 0.095</td>  <th>  Prob(JB):          </th> <td>4.86e-98</td>\n",
       "</tr>\n",
       "<tr>\n",
       "  <th>Kurtosis:</th>       <td> 1.984</td>  <th>  Cond. No.          </th> <td>    10.7</td>\n",
       "</tr>\n",
       "</table><br/><br/>Warnings:<br/>[1] Standard Errors assume that the covariance matrix of the errors is correctly specified."
      ],
      "text/plain": [
       "<class 'statsmodels.iolib.summary.Summary'>\n",
       "\"\"\"\n",
       "                            OLS Regression Results                            \n",
       "==============================================================================\n",
       "Dep. Variable:                    Age   R-squared:                       0.008\n",
       "Model:                            OLS   Adj. R-squared:                  0.007\n",
       "Method:                 Least Squares   F-statistic:                     11.27\n",
       "Date:                Sun, 01 Dec 2019   Prob (F-statistic):           2.63e-14\n",
       "Time:                        19:02:05   Log-Likelihood:                -45334.\n",
       "No. Observations:               10064   AIC:                         9.068e+04\n",
       "Df Residuals:                   10056   BIC:                         9.074e+04\n",
       "Df Model:                           7                                         \n",
       "Covariance Type:            nonrobust                                         \n",
       "======================================================================================\n",
       "                         coef    std err          t      P>|t|      [0.025      0.975]\n",
       "--------------------------------------------------------------------------------------\n",
       "Intercept             41.2905      0.745     55.444      0.000      39.831      42.750\n",
       "C(Region)[T.Chern]     4.0142      1.104      3.637      0.000       1.851       6.178\n",
       "C(Region)[T.Dnipr]    -1.5802      0.919     -1.720      0.085      -3.381       0.220\n",
       "C(Region)[T.Don]      -0.7888      0.888     -0.888      0.374      -2.529       0.952\n",
       "C(Region)[T.Khark]    -0.1300      0.993     -0.131      0.896      -2.077       1.817\n",
       "C(Region)[T.Lviv]     -4.2453      0.925     -4.590      0.000      -6.058      -2.432\n",
       "C(Region)[T.Odess]    -1.5151      1.002     -1.511      0.131      -3.480       0.450\n",
       "C(Region)[T.Vinn]     -1.6792      1.015     -1.654      0.098      -3.669       0.311\n",
       "==============================================================================\n",
       "Omnibus:                     2524.500   Durbin-Watson:                   1.437\n",
       "Prob(Omnibus):                  0.000   Jarque-Bera (JB):              448.143\n",
       "Skew:                           0.095   Prob(JB):                     4.86e-98\n",
       "Kurtosis:                       1.984   Cond. No.                         10.7\n",
       "==============================================================================\n",
       "\n",
       "Warnings:\n",
       "[1] Standard Errors assume that the covariance matrix of the errors is correctly specified.\n",
       "\"\"\""
      ]
     },
     "execution_count": 3,
     "metadata": {},
     "output_type": "execute_result"
    }
   ],
   "source": [
    "results = ols('Age ~ C(Region)', data=df).fit()\n",
    "results.summary()"
   ]
  },
  {
   "cell_type": "code",
   "execution_count": 9,
   "metadata": {},
   "outputs": [
    {
     "data": {
      "text/plain": [
       "array(['Vinn', 'Dnipr', 'Don', 'Lviv', 'Odess', 'Khark', 'Cherk', 'Chern'],\n",
       "      dtype=object)"
      ]
     },
     "execution_count": 9,
     "metadata": {},
     "output_type": "execute_result"
    }
   ],
   "source": [
    "df['Region'].unique()"
   ]
  },
  {
   "cell_type": "markdown",
   "metadata": {},
   "source": [
    "F(7, 10056)=11.27, p~=2.63e-14, отже бачимо, що модель значуща\n",
    "з p-value в таблиці видно, що різниця між группою Intercept - Cherk та группами Chern, Lviv - значуща, а іншими - ні"
   ]
  },
  {
   "cell_type": "code",
   "execution_count": 10,
   "metadata": {},
   "outputs": [
    {
     "data": {
      "text/html": [
       "<div>\n",
       "<style scoped>\n",
       "    .dataframe tbody tr th:only-of-type {\n",
       "        vertical-align: middle;\n",
       "    }\n",
       "\n",
       "    .dataframe tbody tr th {\n",
       "        vertical-align: top;\n",
       "    }\n",
       "\n",
       "    .dataframe thead th {\n",
       "        text-align: right;\n",
       "    }\n",
       "</style>\n",
       "<table border=\"1\" class=\"dataframe\">\n",
       "  <thead>\n",
       "    <tr style=\"text-align: right;\">\n",
       "      <th></th>\n",
       "      <th>sum_sq</th>\n",
       "      <th>df</th>\n",
       "      <th>F</th>\n",
       "      <th>PR(&gt;F)</th>\n",
       "    </tr>\n",
       "  </thead>\n",
       "  <tbody>\n",
       "    <tr>\n",
       "      <th>C(Region)</th>\n",
       "      <td>3.781133e+04</td>\n",
       "      <td>7.0</td>\n",
       "      <td>11.272362</td>\n",
       "      <td>2.634710e-14</td>\n",
       "    </tr>\n",
       "    <tr>\n",
       "      <th>Residual</th>\n",
       "      <td>4.818749e+06</td>\n",
       "      <td>10056.0</td>\n",
       "      <td>NaN</td>\n",
       "      <td>NaN</td>\n",
       "    </tr>\n",
       "  </tbody>\n",
       "</table>\n",
       "</div>"
      ],
      "text/plain": [
       "                 sum_sq       df          F        PR(>F)\n",
       "C(Region)  3.781133e+04      7.0  11.272362  2.634710e-14\n",
       "Residual   4.818749e+06  10056.0        NaN           NaN"
      ]
     },
     "execution_count": 10,
     "metadata": {},
     "output_type": "execute_result"
    }
   ],
   "source": [
    "aov_table = sm.stats.anova_lm(results, typ=2)\n",
    "aov_table"
   ]
  },
  {
   "cell_type": "markdown",
   "metadata": {},
   "source": [
    "оскільки модель значуща, вона поясняє значну кількість відхилень (sum_sq = 3.2*10^5)  \n",
    "рядок Residual вказує на несистематичні відхилення у даних (unexplained variance)"
   ]
  },
  {
   "cell_type": "code",
   "execution_count": 22,
   "metadata": {},
   "outputs": [],
   "source": [
    "plt.rcParams['figure.figsize'] = (10,10)"
   ]
  },
  {
   "cell_type": "code",
   "execution_count": 12,
   "metadata": {
    "scrolled": true
   },
   "outputs": [
    {
     "data": {
      "text/plain": [
       "<matplotlib.axes._subplots.AxesSubplot at 0x7fdcf93ef4d0>"
      ]
     },
     "execution_count": 12,
     "metadata": {},
     "output_type": "execute_result"
    },
    {
     "data": {
      "image/png": "[encoded data removed]",
      "text/plain": [
       "<Figure size 720x720 with 1 Axes>"
      ]
     },
     "metadata": {
      "needs_background": "light"
     },
     "output_type": "display_data"
    }
   ],
   "source": [
    "sns.pointplot(x='Region', y='Age', data=df, capsize=.2)"
   ]
  },
  {
   "cell_type": "code",
   "execution_count": 14,
   "metadata": {},
   "outputs": [
    {
     "data": {
      "text/plain": [
       "<matplotlib.axes._subplots.AxesSubplot at 0x7fdcf8a426d0>"
      ]
     },
     "execution_count": 14,
     "metadata": {},
     "output_type": "execute_result"
    },
    {
     "data": {
      "image/png": "[encoded data removed]",
      "text/plain": [
       "<Figure size 720x720 with 1 Axes>"
      ]
     },
     "metadata": {
      "needs_background": "light"
     },
     "output_type": "display_data"
    }
   ],
   "source": [
    "alpha_bonf = 0.05 / 8\n",
    "sns.pointplot(x='Region', y='Age', data=df, capsize=.2, ci=100-alpha_bonf*100)"
   ]
  },
  {
   "cell_type": "markdown",
   "metadata": {},
   "source": [
    "бачимо, що деякі інтервали середніх перетинаються"
   ]
  },
  {
   "cell_type": "code",
   "execution_count": 13,
   "metadata": {},
   "outputs": [
    {
     "data": {
      "text/plain": [
       "LeveneResult(statistic=1.9225931521534856, pvalue=0.06182139858350103)"
      ]
     },
     "execution_count": 13,
     "metadata": {},
     "output_type": "execute_result"
    }
   ],
   "source": [
    "df = df[['Region', 'Age']].dropna()\n",
    "stats.levene(df['Age'][df['Region'] == 'Vinn'],\n",
    "            df['Age'][df['Region'] == 'Dnipr'],\n",
    "            df['Age'][df['Region'] == 'Don'],\n",
    "            df['Age'][df['Region'] == 'Lviv'],\n",
    "            df['Age'][df['Region'] == 'Odess'],\n",
    "            df['Age'][df['Region'] == 'Khark'],\n",
    "            df['Age'][df['Region'] == 'Cherk'],\n",
    "            df['Age'][df['Region'] == 'Chern'])"
   ]
  },
  {
   "cell_type": "markdown",
   "metadata": {},
   "source": [
    "p>0.05, тому можно вважати дисперсії однорідними"
   ]
  },
  {
   "cell_type": "code",
   "execution_count": 30,
   "metadata": {},
   "outputs": [],
   "source": [
    "plt.rcParams['figure.figsize'] = (5,20)"
   ]
  },
  {
   "cell_type": "code",
   "execution_count": null,
   "metadata": {},
   "outputs": [],
   "source": []
  },
  {
   "cell_type": "code",
   "execution_count": null,
   "metadata": {},
   "outputs": [],
   "source": []
  }
 ],
 "metadata": {
  "kernelspec": {
   "display_name": "Python 3",
   "language": "python",
   "name": "python3"
  },
  "language_info": {
   "codemirror_mode": {
    "name": "ipython",
    "version": 3
   },
   "file_extension": ".py",
   "mimetype": "text/x-python",
   "name": "python",
   "nbconvert_exporter": "python",
   "pygments_lexer": "ipython3",
   "version": "3.7.4"
  }
 },
 "nbformat": 4,
 "nbformat_minor": 2
}
